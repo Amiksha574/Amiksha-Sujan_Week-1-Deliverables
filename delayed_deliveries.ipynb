import pandas as pd
data = pd.read_csv("delivery_data.csv")
print(data.head())
delayed = data[data['delay_minutes'] > 0] 
print(delayed.head())
import sqlite3
conn = sqlite3.connect("delayed_deliveries.db") 
delayed.to_csv("delayed_deliveries.csv", index=False)
